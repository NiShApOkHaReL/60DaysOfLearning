{
 "cells": [
  {
   "cell_type": "markdown",
   "id": "3f537b0f",
   "metadata": {},
   "source": [
    "# Difference Between NumPy Array and List in Python"
   ]
  },
  {
   "cell_type": "markdown",
   "id": "17d1623e",
   "metadata": {},
   "source": [
    "- Type:\n",
    "\n",
    "NumPy Array: Homogeneous.\n",
    "Python List: Heterogeneous.\n",
    "\n",
    "- Performance:\n",
    "\n",
    "NumPy Array: Faster, more memory-efficient.\n",
    "Python List: Slower, less memory-efficient.\n",
    "\n",
    "- Functionality:\n",
    "\n",
    "NumPy Array: Extensive mathematical functions and operations.\n",
    "Python List: General-purpose container.\n",
    "\n",
    "- Memory Consumption:\n",
    "\n",
    "NumPy Array: Contiguous memory storage, fixed-size elements.\n",
    "Python List: Overhead of type information and pointers.\n",
    "\n",
    "- Size Flexibility:\n",
    "\n",
    "NumPy Array: Fixed size after creation.\n",
    "Python List: Dynamically resizable.\n",
    "\n",
    "- Element-wise Operations:\n",
    "\n",
    "NumPy Array: Supports out-of-the-box element-wise operations.\n",
    "Python List: Requires explicit loops or comprehensions.\n",
    "\n",
    "- Indexing and Slicing:\n",
    "\n",
    "NumPy Array: Advanced multi-dimensional indexing.\n",
    "Python List: Basic one-dimensional indexing.\n",
    "\n",
    "- Broadcasting:\n",
    "\n",
    "NumPy Array: Supports broadcasting.\n",
    "Python List: Does not support broadcasting.\n",
    "\n",
    "- Multidimensional Support:\n",
    "\n",
    "NumPy Array: Efficient multi-dimensional array handling.\n",
    "Python List: Less efficient, more complex multi-dimensional handling.\n",
    "\n",
    "- Interoperability:\n",
    "\n",
    "NumPy Array: Integrates with scientific libraries.\n",
    "Python List: General-purpose use."
   ]
  },
  {
   "cell_type": "code",
   "execution_count": 1,
   "id": "2088ae2b",
   "metadata": {},
   "outputs": [
    {
     "name": "stdout",
     "output_type": "stream",
     "text": [
      "2.27 µs ± 9.3 ns per loop (mean ± std. dev. of 7 runs, 100,000 loops each)\n"
     ]
    }
   ],
   "source": [
    "%timeit [j**4 for j in range(1,9)]"
   ]
  },
  {
   "cell_type": "code",
   "execution_count": 2,
   "id": "9d4cbe8c",
   "metadata": {},
   "outputs": [],
   "source": [
    "import numpy as np"
   ]
  },
  {
   "cell_type": "code",
   "execution_count": 3,
   "id": "0b5aef41",
   "metadata": {},
   "outputs": [
    {
     "name": "stdout",
     "output_type": "stream",
     "text": [
      "528 ns ± 11.6 ns per loop (mean ± std. dev. of 7 runs, 1,000,000 loops each)\n"
     ]
    }
   ],
   "source": [
    "%timeit np.arange(1,9)"
   ]
  },
  {
   "cell_type": "markdown",
   "id": "0e205de3",
   "metadata": {},
   "source": [
    "## NumPy Array"
   ]
  },
  {
   "cell_type": "code",
   "execution_count": 4,
   "id": "335e549b",
   "metadata": {},
   "outputs": [
    {
     "name": "stdout",
     "output_type": "stream",
     "text": [
      "<class 'list'>\n",
      "<class 'numpy.ndarray'>\n"
     ]
    }
   ],
   "source": [
    "x = [1,2,3,4]\n",
    "    \n",
    "y = np.array([1,2,3,4])\n",
    "\n",
    "print(type(x))\n",
    "print(type(y))"
   ]
  },
  {
   "cell_type": "code",
   "execution_count": null,
   "id": "8f7d46f2",
   "metadata": {},
   "outputs": [],
   "source": [
    "l = []\n",
    "\n",
    "for i in range(1,5):\n",
    "    int_1 = int(input(\"Enter: \"))\n",
    "    l.append(int_1)\n",
    "print(np.array(l))"
   ]
  },
  {
   "cell_type": "markdown",
   "id": "9224547d",
   "metadata": {},
   "source": [
    "### Dimension in Arrays"
   ]
  },
  {
   "cell_type": "markdown",
   "id": "27543682",
   "metadata": {},
   "source": [
    "1. 1-D Array\n",
    "2. 2-D Array\n",
    "3. 3-D Array\n",
    "4. Higher Dimensional Array"
   ]
  },
  {
   "cell_type": "markdown",
   "id": "18a2aed0",
   "metadata": {},
   "source": [
    "### To check the dimension of Array"
   ]
  },
  {
   "cell_type": "code",
   "execution_count": null,
   "id": "699129b4",
   "metadata": {},
   "outputs": [],
   "source": [
    "ar2 = np.array([[1,2,3,4],[5,6,7,8]])\n",
    "print(ar2)\n",
    "print(\"Dimension of array is\",ar2.ndim,\"- D Array\")"
   ]
  },
  {
   "cell_type": "code",
   "execution_count": null,
   "id": "f473bdf9",
   "metadata": {},
   "outputs": [],
   "source": [
    "ar3 = np.array([[[1,2,3,4],[5,6,7,8],[9,10,11,12]]])\n",
    "print(ar3)\n",
    "print(\"Dimension of array is\",ar3.ndim,\"- D Array\")"
   ]
  },
  {
   "cell_type": "code",
   "execution_count": null,
   "id": "f570b910",
   "metadata": {},
   "outputs": [],
   "source": [
    "arn = np.array([1,2,3,4], ndmin = 10)\n",
    "print(arn)\n",
    "print(arn.ndim)"
   ]
  },
  {
   "cell_type": "markdown",
   "id": "dca45afe",
   "metadata": {},
   "source": [
    "## Creating array of Zero"
   ]
  },
  {
   "cell_type": "code",
   "execution_count": null,
   "id": "6153eb54",
   "metadata": {},
   "outputs": [],
   "source": [
    "ar_zero = np.zeros(4)\n",
    "ar_zero1 = np.zeros((3,4))\n",
    "\n",
    "print(ar_zero)\n",
    "print()\n",
    "print(ar_zero1)"
   ]
  },
  {
   "cell_type": "markdown",
   "id": "d6b918d4",
   "metadata": {},
   "source": [
    "## Ones"
   ]
  },
  {
   "cell_type": "code",
   "execution_count": null,
   "id": "f0680471",
   "metadata": {},
   "outputs": [],
   "source": [
    "ar_one = np.ones(5)"
   ]
  },
  {
   "cell_type": "code",
   "execution_count": null,
   "id": "de57a7e8",
   "metadata": {},
   "outputs": [],
   "source": [
    "print(ar_one)"
   ]
  },
  {
   "cell_type": "markdown",
   "id": "2c056f1c",
   "metadata": {},
   "source": [
    "## Creating empty array"
   ]
  },
  {
   "cell_type": "code",
   "execution_count": null,
   "id": "6f64f47e",
   "metadata": {},
   "outputs": [],
   "source": [
    "ar_empty = np.empty(4)\n",
    "print(ar_empty) # Contain the value of previous memory"
   ]
  },
  {
   "cell_type": "markdown",
   "id": "94fee21b",
   "metadata": {},
   "source": [
    "## Range"
   ]
  },
  {
   "cell_type": "code",
   "execution_count": null,
   "id": "e4ff7938",
   "metadata": {},
   "outputs": [],
   "source": [
    "ar_rn = np.arange(5)\n",
    "print(ar_rn)"
   ]
  },
  {
   "cell_type": "markdown",
   "id": "8346b340",
   "metadata": {},
   "source": [
    "## Diagonal element filled with 1's"
   ]
  },
  {
   "cell_type": "code",
   "execution_count": null,
   "id": "468bfe0f",
   "metadata": {},
   "outputs": [],
   "source": [
    "ar_dia = np.eye(4)\n",
    "print(ar_dia)"
   ]
  },
  {
   "cell_type": "code",
   "execution_count": null,
   "id": "d97dc195",
   "metadata": {},
   "outputs": [],
   "source": [
    "ar_dia1 = np.eye(3,5)\n",
    "print(ar_dia1)"
   ]
  },
  {
   "cell_type": "markdown",
   "id": "7174e3d0",
   "metadata": {},
   "source": [
    "## Linspace"
   ]
  },
  {
   "cell_type": "code",
   "execution_count": null,
   "id": "bd5ac14e",
   "metadata": {},
   "outputs": [],
   "source": [
    "ar_lin = np.linspace(0,20,num=5) # Array with gaps\n",
    "print(ar_lin)"
   ]
  },
  {
   "cell_type": "markdown",
   "id": "0d7f5979",
   "metadata": {},
   "source": [
    "## Creating NumPy Arrays with Random Numbers"
   ]
  },
  {
   "cell_type": "markdown",
   "id": "ebcbab11",
   "metadata": {},
   "source": [
    "### Rand() - This function is used to generate random value between 0 to 1."
   ]
  },
  {
   "cell_type": "code",
   "execution_count": null,
   "id": "e6417339",
   "metadata": {},
   "outputs": [],
   "source": [
    "var = np.random.rand(4) # random num between 0 to 1"
   ]
  },
  {
   "cell_type": "code",
   "execution_count": null,
   "id": "842be23d",
   "metadata": {},
   "outputs": [],
   "source": [
    "print(var)"
   ]
  },
  {
   "cell_type": "code",
   "execution_count": null,
   "id": "11714c80",
   "metadata": {},
   "outputs": [],
   "source": [
    "var1 = np.random.rand(2,3)\n",
    "print(var1)"
   ]
  },
  {
   "cell_type": "markdown",
   "id": "aea275f6",
   "metadata": {},
   "source": [
    "### Randn() - Generate random value close to zero, may return +ve or -ve as well."
   ]
  },
  {
   "cell_type": "code",
   "execution_count": null,
   "id": "4d365223",
   "metadata": {},
   "outputs": [],
   "source": [
    "var2 = np.random.randn(5)\n",
    "\n",
    "print(var2)"
   ]
  },
  {
   "cell_type": "markdown",
   "id": "f4535aed",
   "metadata": {},
   "source": [
    "### ranf()"
   ]
  },
  {
   "cell_type": "code",
   "execution_count": null,
   "id": "1e243f6d",
   "metadata": {},
   "outputs": [],
   "source": [
    "var3 = np.random.ranf(4) # [0.0,1.0)\n",
    "print(var3)"
   ]
  },
  {
   "cell_type": "markdown",
   "id": "f17cd449",
   "metadata": {},
   "source": [
    "### randint()"
   ]
  },
  {
   "cell_type": "code",
   "execution_count": null,
   "id": "d5539806",
   "metadata": {},
   "outputs": [],
   "source": [
    "#var4 = np.random.randint(min,max,total_values)\n",
    "var4 = np.random.randint(5,20,5)\n",
    "print(var4)"
   ]
  },
  {
   "cell_type": "markdown",
   "id": "9e83d66f",
   "metadata": {},
   "source": [
    "## Data Types in NumPy Arrays"
   ]
  },
  {
   "cell_type": "code",
   "execution_count": null,
   "id": "34f13b14",
   "metadata": {},
   "outputs": [],
   "source": [
    "var = np.array([1,2,3])\n",
    "print(\"Data Type: \",var.dtype)"
   ]
  },
  {
   "cell_type": "code",
   "execution_count": null,
   "id": "13f326c8",
   "metadata": {},
   "outputs": [],
   "source": [
    "var = np.array([1.4,2.5,3.2])\n",
    "print(\"Data Type: \",var.dtype)"
   ]
  },
  {
   "cell_type": "code",
   "execution_count": null,
   "id": "d38e1f7b",
   "metadata": {},
   "outputs": [],
   "source": [
    "var = np.array([\"2\",\"f\"])\n",
    "print(\"Data Type: \",var.dtype) #String Datatype"
   ]
  },
  {
   "cell_type": "code",
   "execution_count": null,
   "id": "aafedd41",
   "metadata": {},
   "outputs": [],
   "source": [
    "var = np.array([\"c\",\"f\"])\n",
    "print(\"Data Type: \",var.dtype)"
   ]
  },
  {
   "cell_type": "markdown",
   "id": "5a464c0a",
   "metadata": {},
   "source": [
    "### Converting the datatype"
   ]
  },
  {
   "cell_type": "code",
   "execution_count": null,
   "id": "03cfa993",
   "metadata": {},
   "outputs": [],
   "source": [
    "x = np.array([1,2,3])\n",
    "print(\"Data Type: \",x.dtype)"
   ]
  },
  {
   "cell_type": "code",
   "execution_count": null,
   "id": "3a8a4f5e",
   "metadata": {},
   "outputs": [],
   "source": [
    "x = np.array([1,2,3], dtype=np.int8)\n",
    "print(\"Data Type: \",x.dtype)\n",
    "print(x)"
   ]
  },
  {
   "cell_type": "code",
   "execution_count": null,
   "id": "77d892f6",
   "metadata": {},
   "outputs": [],
   "source": [
    "x1 = np.array([1,2,3], dtype=\"f\")\n",
    "print(\"Data Type: \",x1.dtype)\n",
    "print(x1)"
   ]
  },
  {
   "cell_type": "code",
   "execution_count": null,
   "id": "33ec7695",
   "metadata": {},
   "outputs": [],
   "source": [
    "x2 = np.array([1,2,3])  #Using as a function\n",
    "\n",
    "new = np.float32(x2)\n",
    "\n",
    "print(\"Data Type: \",x2.dtype)\n",
    "print(\"Data Type: \",new.dtype)\n",
    "\n",
    "print(x2)\n",
    "print(new)"
   ]
  },
  {
   "cell_type": "code",
   "execution_count": null,
   "id": "00d933b2",
   "metadata": {},
   "outputs": [],
   "source": [
    "x2 = np.array([1,2,3])  #Using as a function\n",
    "\n",
    "new = np.float32(x2)\n",
    "\n",
    "new_one = np.int_(new)\n",
    "\n",
    "print(\"Data Type: \",x2.dtype)\n",
    "print(\"Data Type: \",new.dtype)\n",
    "print(\"Data Type: \",new_one.dtype)\n",
    "\n",
    "print(x2)\n",
    "print(new)\n",
    "print(new_one)"
   ]
  },
  {
   "cell_type": "code",
   "execution_count": null,
   "id": "38ff46ac",
   "metadata": {},
   "outputs": [],
   "source": [
    "x3 = np.array([1,2,3,4,5])\n",
    "\n",
    "new_1 = x3.astype(float)\n",
    "\n",
    "print(x3)\n",
    "print(new_1)"
   ]
  },
  {
   "cell_type": "markdown",
   "id": "805f1ebc",
   "metadata": {},
   "source": [
    "## Arithmetic Operation"
   ]
  },
  {
   "cell_type": "code",
   "execution_count": null,
   "id": "1ad3f562",
   "metadata": {},
   "outputs": [],
   "source": [
    "var = np.array([1,2,3,4])\n",
    "\n",
    "varadd = var+3\n",
    "\n",
    "print(varadd)"
   ]
  },
  {
   "cell_type": "code",
   "execution_count": null,
   "id": "51674e73",
   "metadata": {},
   "outputs": [],
   "source": [
    "var1 = np.array([1,2,3,4])\n",
    "var2 = np.array([1,2,3,4])\n",
    "\n",
    "varadd = np.add(var1,3)\n",
    "\n",
    "print(varadd)"
   ]
  },
  {
   "cell_type": "code",
   "execution_count": null,
   "id": "a2ceb5c9",
   "metadata": {},
   "outputs": [],
   "source": [
    "var1 = np.array([1,2,3,4])\n",
    "var2 = np.array([1,2,3,4])\n",
    "\n",
    "varadd = var1+var2\n",
    "\n",
    "print(varadd)"
   ]
  },
  {
   "cell_type": "code",
   "execution_count": null,
   "id": "d92536e0",
   "metadata": {},
   "outputs": [],
   "source": [
    "var1 = np.array([1,2,3,4])\n",
    "var2 = np.array([1,2,3,4])\n",
    "\n",
    "varadd = np.add(var1,var2)\n",
    "\n",
    "print(varadd)"
   ]
  },
  {
   "cell_type": "code",
   "execution_count": null,
   "id": "d94a32f5",
   "metadata": {},
   "outputs": [],
   "source": [
    "var = np.array([1,2,3,4])\n",
    "\n",
    "varadd = var-3\n",
    "\n",
    "print(varadd)"
   ]
  },
  {
   "cell_type": "code",
   "execution_count": null,
   "id": "245b7910",
   "metadata": {},
   "outputs": [],
   "source": [
    "var1 = np.array([1,2,3,4])\n",
    "var2 = np.array([1,2,3,4])\n",
    "\n",
    "varadd = var1*var2\n",
    "\n",
    "print(varadd)"
   ]
  },
  {
   "cell_type": "code",
   "execution_count": null,
   "id": "8d3c691e",
   "metadata": {},
   "outputs": [],
   "source": [
    "var1 = np.array([4,6,1,2])\n",
    "var2 = np.array([1,2,3,4])\n",
    "\n",
    "varadd = var1/var2\n",
    "\n",
    "print(varadd)"
   ]
  },
  {
   "cell_type": "code",
   "execution_count": null,
   "id": "ec74b014",
   "metadata": {},
   "outputs": [],
   "source": [
    "var1 = np.array([4,6,1,2])\n",
    "var2 = np.array([1,2,3,4])\n",
    "\n",
    "varadd = var1%var2\n",
    "\n",
    "print(varadd)"
   ]
  },
  {
   "cell_type": "code",
   "execution_count": null,
   "id": "74672172",
   "metadata": {},
   "outputs": [],
   "source": [
    "var1 = np.array([1,2,3,4])\n",
    "var2 = np.array([1,2,3,4])\n",
    "\n",
    "varadd = var1**var2 #Power\n",
    "\n",
    "print(varadd)"
   ]
  },
  {
   "cell_type": "code",
   "execution_count": null,
   "id": "26c9f97f",
   "metadata": {},
   "outputs": [],
   "source": [
    "var1 = np.array([4,6,1,2])\n",
    "\n",
    "\n",
    "varadd = np.reciprocal(var1) #1/a\n",
    "\n",
    "print(varadd)"
   ]
  },
  {
   "cell_type": "markdown",
   "id": "d934155e",
   "metadata": {},
   "source": [
    "### 2-D Array"
   ]
  },
  {
   "cell_type": "code",
   "execution_count": null,
   "id": "af2b9daa",
   "metadata": {},
   "outputs": [],
   "source": [
    "var1 = np.array([[4,6,1,2],[3,2,6,7]])\n",
    "\n",
    "var2 = var1%3\n",
    "\n",
    "print(var2)"
   ]
  },
  {
   "cell_type": "code",
   "execution_count": null,
   "id": "a4b7efff",
   "metadata": {},
   "outputs": [],
   "source": [
    "var1 = np.array([[4,6,1,2],[3,2,6,7]])\n",
    "var2 = np.array([[6,7,8,9],[3,2,0,7]])\n",
    "\n",
    "print(var1)\n",
    "print()\n",
    "print(var2)\n",
    "print()\n",
    "varadd = var1+var2\n",
    "\n",
    "print(varadd)"
   ]
  },
  {
   "cell_type": "markdown",
   "id": "812ab690",
   "metadata": {},
   "source": [
    "## Arithmetic Functions"
   ]
  },
  {
   "cell_type": "code",
   "execution_count": null,
   "id": "7d1fea02",
   "metadata": {},
   "outputs": [],
   "source": [
    "var = np.array([5,8,2,3,4])\n",
    "\n",
    "print(\"Minimum :\",np.min(var),\"Index : \",np.argmin(var))\n",
    "print(\"Maximum :\",np.max(var),\"Index :\",np.argmax(var))"
   ]
  },
  {
   "cell_type": "code",
   "execution_count": null,
   "id": "e211db23",
   "metadata": {},
   "outputs": [],
   "source": [
    "var = np.array([[5,8,2,3],[0,6,7,10]])  # Axis =0 \"Col\", # Axis =1 \"Row\"\n",
    "print(np.min(var,axis=1))"
   ]
  },
  {
   "cell_type": "code",
   "execution_count": null,
   "id": "e074acc7",
   "metadata": {},
   "outputs": [],
   "source": [
    "var = np.array([[5,8,2,3],[0,6,7,10]])  # Axis =0 \"Col\", # Axis =1 \"Row\"\n",
    "print(np.min(var,axis=0))"
   ]
  },
  {
   "cell_type": "code",
   "execution_count": null,
   "id": "b059196d",
   "metadata": {},
   "outputs": [],
   "source": [
    "var1 = np.array([4,16,25])\n",
    "print(\"Square Root\",np.sqrt(var1))"
   ]
  },
  {
   "cell_type": "code",
   "execution_count": null,
   "id": "52aa3226",
   "metadata": {},
   "outputs": [],
   "source": [
    "var2 = np.array([1,2,3])\n",
    "\n",
    "print(np.sin(var2))\n",
    "print(np.cos(var2))\n",
    "\n",
    "print(np.cumsum(var2)) # 1, 1+2=3, 3+3=6"
   ]
  },
  {
   "cell_type": "markdown",
   "id": "3e6c5e4c",
   "metadata": {},
   "source": [
    "# Shape and Reshaping in NumPy Arrays"
   ]
  },
  {
   "cell_type": "markdown",
   "id": "e71d339e",
   "metadata": {},
   "source": [
    "### Shape"
   ]
  },
  {
   "cell_type": "code",
   "execution_count": null,
   "id": "c8bedf90",
   "metadata": {},
   "outputs": [],
   "source": [
    "var = np.array([[1,2,3,4],[3,4,3,7]])\n",
    "print(var)\n",
    "print()\n",
    "print(var.shape)"
   ]
  },
  {
   "cell_type": "code",
   "execution_count": null,
   "id": "1d365fc7",
   "metadata": {},
   "outputs": [],
   "source": [
    "var1 = np.array([1,2,3],ndmin=4)\n",
    "\n",
    "print(var1)\n",
    "print()\n",
    "print(var1.ndim)\n",
    "print()\n",
    "print(var1.shape)"
   ]
  },
  {
   "cell_type": "markdown",
   "id": "246ae898",
   "metadata": {},
   "source": [
    "### Reshape"
   ]
  },
  {
   "cell_type": "code",
   "execution_count": null,
   "id": "f66e637a",
   "metadata": {},
   "outputs": [],
   "source": [
    "var2 = np.array([1,2,3,4,5,6])\n",
    "print(var2)\n",
    "print(var2.ndim)\n",
    "print()\n",
    "x = var2.reshape(3,2)\n",
    "\n",
    "print(x)\n",
    "print(x.ndim)"
   ]
  },
  {
   "cell_type": "code",
   "execution_count": null,
   "id": "caddfb01",
   "metadata": {},
   "outputs": [],
   "source": [
    "var3 = np.array([1,2,3,4,5,6,7,8,9,10,11,12])\n",
    "print(var3)\n",
    "print(var3.ndim)\n",
    "print()\n",
    "x1 = var3.reshape(2,3,2)\n",
    "\n",
    "print(x1)\n",
    "print(x1.ndim)\n",
    "\n",
    "print()\n",
    "\n",
    "one = x1.reshape(-1)\n",
    "print(one)\n",
    "print(one.ndim)"
   ]
  },
  {
   "cell_type": "markdown",
   "id": "cf50bad5",
   "metadata": {},
   "source": [
    "# Broadcasting "
   ]
  },
  {
   "cell_type": "code",
   "execution_count": null,
   "id": "4a628ac7",
   "metadata": {},
   "outputs": [],
   "source": [
    "var1 =  np.array([1,2,3,4])\n",
    "var2 =  np.array([1,2,3])\n",
    "\n",
    "print(var1+var2)  #Must be of Same Dimension"
   ]
  },
  {
   "cell_type": "code",
   "execution_count": null,
   "id": "dce18607",
   "metadata": {},
   "outputs": [],
   "source": [
    "var1 =  np.array([1,2,3])\n",
    "print(var1.shape)\n",
    "print()\n",
    "print(var1)\n",
    "print()\n",
    "\n",
    "var2 =  np.array([[1],[2],[3]])\n",
    "print(var2.shape)\n",
    "print()\n",
    "print(var2)\n",
    "print()\n",
    "print(var1+var2) "
   ]
  },
  {
   "cell_type": "markdown",
   "id": "852b06b0",
   "metadata": {},
   "source": [
    "# Indexing and Slicing"
   ]
  },
  {
   "cell_type": "code",
   "execution_count": null,
   "id": "e82b2f51",
   "metadata": {},
   "outputs": [],
   "source": [
    "var = np.array([3,4,5,6])\n",
    "\n",
    "print(var[1])\n",
    "print(var[-2])"
   ]
  },
  {
   "cell_type": "code",
   "execution_count": null,
   "id": "9b5a5bdf",
   "metadata": {},
   "outputs": [],
   "source": [
    "var1 = np.array([[2,3,4],[5,6,7]])\n",
    "\n",
    "print(var1)\n",
    "print(var1.ndim,\"- D Array\")\n",
    "print()\n",
    "\n",
    "print(var1[0,2])"
   ]
  },
  {
   "cell_type": "code",
   "execution_count": null,
   "id": "7f08b373",
   "metadata": {},
   "outputs": [],
   "source": [
    "var2 = np.array([[[1,2],[3,4]]])\n",
    "\n",
    "print(var2)\n",
    "print(var2.ndim)\n",
    "print()\n",
    "print(var2[0,1,1])"
   ]
  },
  {
   "cell_type": "code",
   "execution_count": null,
   "id": "a101bd40",
   "metadata": {},
   "outputs": [],
   "source": [
    "var = np.array([1,2,3,4,5,6])\n",
    "\n",
    "print(var[2:6])\n",
    "print(var[:5])\n",
    "print(var[5:])\n",
    "print(var[:])\n",
    "print(var[::2])\n",
    "print(var[1:6:2])"
   ]
  },
  {
   "cell_type": "code",
   "execution_count": null,
   "id": "5e767f21",
   "metadata": {},
   "outputs": [],
   "source": [
    "var1 = np.array([[1,2,3,4,5],[6,7,8,9,10],[11,12,13,14,15]])\n",
    "\n",
    "print(var1)\n",
    "print()\n",
    "\n",
    "print(var1[2,1:])"
   ]
  },
  {
   "cell_type": "markdown",
   "id": "8d259dd3",
   "metadata": {},
   "source": [
    "# Iteration"
   ]
  },
  {
   "cell_type": "code",
   "execution_count": null,
   "id": "0fa4bd61",
   "metadata": {},
   "outputs": [],
   "source": [
    "var = np.array([1,2,3,4,5])\n",
    "print(var)\n",
    "print()\n",
    "for i in var:\n",
    "    print(i)"
   ]
  },
  {
   "cell_type": "code",
   "execution_count": null,
   "id": "411028f2",
   "metadata": {},
   "outputs": [],
   "source": [
    "var1 = np.array([[1,2,3,4],[5,6,7,8]])\n",
    "\n",
    "print(var1)\n",
    "print()\n",
    "\n",
    "for j in var1:\n",
    "    print(j)\n",
    "\n",
    "print()\n",
    "for k in var1:\n",
    "    for l in k:\n",
    "        print(l)"
   ]
  },
  {
   "cell_type": "code",
   "execution_count": null,
   "id": "58264570",
   "metadata": {},
   "outputs": [],
   "source": [
    "var3 = np.array([[[1,2,3,4],[5,6,7,8]]])\n",
    "\n",
    "print(var3)\n",
    "print()\n",
    "print(var3.ndim)\n",
    "print()\n",
    "\n",
    "for i in var3:\n",
    "    for j in i:\n",
    "        for k in j:\n",
    "            print(k)"
   ]
  },
  {
   "cell_type": "code",
   "execution_count": null,
   "id": "773b2052",
   "metadata": {},
   "outputs": [],
   "source": []
  },
  {
   "cell_type": "code",
   "execution_count": null,
   "id": "dd927e6d",
   "metadata": {},
   "outputs": [],
   "source": []
  },
  {
   "cell_type": "code",
   "execution_count": null,
   "id": "b66106d2",
   "metadata": {},
   "outputs": [],
   "source": []
  },
  {
   "cell_type": "code",
   "execution_count": null,
   "id": "8d7706f4",
   "metadata": {},
   "outputs": [],
   "source": []
  },
  {
   "cell_type": "code",
   "execution_count": null,
   "id": "e8fc2fc3",
   "metadata": {},
   "outputs": [],
   "source": []
  },
  {
   "cell_type": "code",
   "execution_count": null,
   "id": "225fe9f6",
   "metadata": {},
   "outputs": [],
   "source": []
  }
 ],
 "metadata": {
  "kernelspec": {
   "display_name": "Python 3 (ipykernel)",
   "language": "python",
   "name": "python3"
  },
  "language_info": {
   "codemirror_mode": {
    "name": "ipython",
    "version": 3
   },
   "file_extension": ".py",
   "mimetype": "text/x-python",
   "name": "python",
   "nbconvert_exporter": "python",
   "pygments_lexer": "ipython3",
   "version": "3.10.9"
  }
 },
 "nbformat": 4,
 "nbformat_minor": 5
}
